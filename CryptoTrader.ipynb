{
 "cells": [
  {
   "cell_type": "code",
   "execution_count": 7,
   "metadata": {
    "collapsed": true
   },
   "outputs": [],
   "source": [
    "import gdax\n",
    "\n",
    "\n",
    "def get_orders(client, currency = 'BTC', period = 1):\n",
    "    orderPair = currency + '-USD'\n",
    "    periodSeconds = 60*period\n",
    "    time = client.get_time()\n",
    "    orderz = client.get_product_historic_rates(product_id='orderPair',granularity=periodSeconds)\n",
    "    \n",
    "    return orderz\n",
    "\n",
    "\n",
    "def track_orders(orderBook):\n",
    "    trackingList = []\n",
    "    for order in orderBook:\n",
    "        processed = []\n",
    "        \n",
    "        avgPrice = (order[4]+order[3])/2  \n",
    "        percentChange = 1 + (order[4]-order[3])/order[3]\n",
    "        \n",
    "        processed.append(order[0])\n",
    "        processed.append(avgPrice)\n",
    "        processed.append(percentChange)\n",
    "        processed.append(order[5])\n",
    "        \n",
    "        trackingList.append(processed)\n",
    "    \n",
    "    return trackingList"
   ]
  },
  {
   "cell_type": "code",
   "execution_count": 8,
   "metadata": {
    "collapsed": true
   },
   "outputs": [],
   "source": [
    "client = gdax.PublicClient()"
   ]
  },
  {
   "cell_type": "code",
   "execution_count": 5,
   "metadata": {
    "collapsed": true
   },
   "outputs": [],
   "source": [
    "orderz = client.get_product_historic_rates('LTC-USD',granularity=60)"
   ]
  },
  {
   "cell_type": "code",
   "execution_count": 9,
   "metadata": {},
   "outputs": [
    {
     "data": {
      "text/plain": [
       "{'message': 'NotFound'}"
      ]
     },
     "execution_count": 9,
     "metadata": {},
     "output_type": "execute_result"
    }
   ],
   "source": [
    "get_orders(client,product='LTC')"
   ]
  },
  {
   "cell_type": "code",
   "execution_count": null,
   "metadata": {
    "collapsed": true
   },
   "outputs": [],
   "source": []
  }
 ],
 "metadata": {
  "kernelspec": {
   "display_name": "Python 3",
   "language": "python",
   "name": "python3"
  },
  "language_info": {
   "codemirror_mode": {
    "name": "ipython",
    "version": 3
   },
   "file_extension": ".py",
   "mimetype": "text/x-python",
   "name": "python",
   "nbconvert_exporter": "python",
   "pygments_lexer": "ipython3",
   "version": "3.6.1"
  }
 },
 "nbformat": 4,
 "nbformat_minor": 2
}
